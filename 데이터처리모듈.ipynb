{
 "cells": [
  {
   "cell_type": "markdown",
   "metadata": {},
   "source": [
    "# 데이터를 처리하기 위한 모듈\n",
    "## (1) numpy\n",
    "* 선형대수 기반의 프로그램을 쉽게 만들 수 있도록 지원하는 패키지\n",
    "* 루프를 사용하지 않고 대량 데이터의 배열 연산을 가능\n",
    "* 데이터 분석, AI 분야 뿐만 아니라 자연과학, 공학에서도 널리 사용"
   ]
  },
  {
   "cell_type": "code",
   "execution_count": null,
   "metadata": {},
   "outputs": [],
   "source": [
    "import numpy as np"
   ]
  },
  {
   "cell_type": "code",
   "execution_count": 3,
   "metadata": {},
   "outputs": [
    {
     "name": "stdout",
     "output_type": "stream",
     "text": [
      "[1 2 3 4 5] <class 'numpy.ndarray'>\n"
     ]
    }
   ],
   "source": [
    "array1 = np.array([1,2,3,4,5])\n",
    "print(array1, type(array1))"
   ]
  },
  {
   "cell_type": "code",
   "execution_count": 4,
   "metadata": {},
   "outputs": [
    {
     "data": {
      "text/plain": [
       "(5,)"
      ]
     },
     "execution_count": 4,
     "metadata": {},
     "output_type": "execute_result"
    }
   ],
   "source": [
    "array1.shape"
   ]
  },
  {
   "cell_type": "code",
   "execution_count": 5,
   "metadata": {},
   "outputs": [
    {
     "name": "stdout",
     "output_type": "stream",
     "text": [
      "[[1 2 3]\n",
      " [4 5 6]] (2, 3)\n"
     ]
    }
   ],
   "source": [
    "array2 = np.array([[1,2,3],[4,5,6]])\n",
    "print(array2, array2.shape)"
   ]
  },
  {
   "cell_type": "code",
   "execution_count": 6,
   "metadata": {},
   "outputs": [
    {
     "name": "stdout",
     "output_type": "stream",
     "text": [
      "[[[ 1  2  3]\n",
      "  [ 4  5  6]]\n",
      "\n",
      " [[ 7  8  9]\n",
      "  [10 11 12]]] (2, 2, 3)\n"
     ]
    }
   ],
   "source": [
    "array3 = np.array([[[1,2,3],[4,5,6]],[[7,8,9],[10,11,12]]])\n",
    "print(array3, array3.shape)"
   ]
  },
  {
   "cell_type": "code",
   "execution_count": 7,
   "metadata": {},
   "outputs": [
    {
     "name": "stdout",
     "output_type": "stream",
     "text": [
      "array1:1차원, array2:2차원, array3:3차원\n"
     ]
    }
   ],
   "source": [
    "print('array1:{0}차원, array2:{1}차원, array3:{2}차원'.format(array1.ndim,array2.ndim,array3.ndim))"
   ]
  },
  {
   "cell_type": "code",
   "execution_count": 8,
   "metadata": {},
   "outputs": [
    {
     "name": "stdout",
     "output_type": "stream",
     "text": [
      "[0 1 2 3 4 5 6 7 8 9] (10,)\n"
     ]
    }
   ],
   "source": [
    "array1 = np.arange(10)\n",
    "print(array1, array1.shape)"
   ]
  },
  {
   "cell_type": "code",
   "execution_count": 9,
   "metadata": {},
   "outputs": [
    {
     "name": "stdout",
     "output_type": "stream",
     "text": [
      "[[0 1]\n",
      " [2 3]\n",
      " [4 5]\n",
      " [6 7]\n",
      " [8 9]] (5, 2)\n"
     ]
    }
   ],
   "source": [
    "array2 = array1.reshape(5,2)\n",
    "print(array2, array2.shape)"
   ]
  },
  {
   "cell_type": "code",
   "execution_count": 10,
   "metadata": {},
   "outputs": [
    {
     "name": "stdout",
     "output_type": "stream",
     "text": [
      "[[0 1]\n",
      " [2 3]\n",
      " [4 5]\n",
      " [6 7]\n",
      " [8 9]] (5, 2)\n"
     ]
    }
   ],
   "source": [
    "array3 = array1.reshape(5,-1)\n",
    "print(array3, array3.shape)"
   ]
  },
  {
   "cell_type": "code",
   "execution_count": 11,
   "metadata": {},
   "outputs": [
    {
     "data": {
      "text/plain": [
       "array([ 0,  1,  2,  3,  4,  5,  6,  7,  8,  9, 10, 11])"
      ]
     },
     "execution_count": 11,
     "metadata": {},
     "output_type": "execute_result"
    }
   ],
   "source": [
    "#인덱싱과 슬라이싱\n",
    "array1 = np.arange(12)\n",
    "array1"
   ]
  },
  {
   "cell_type": "code",
   "execution_count": 12,
   "metadata": {},
   "outputs": [
    {
     "data": {
      "text/plain": [
       "np.int64(5)"
      ]
     },
     "execution_count": 12,
     "metadata": {},
     "output_type": "execute_result"
    }
   ],
   "source": [
    "array1[5]"
   ]
  },
  {
   "cell_type": "code",
   "execution_count": 14,
   "metadata": {},
   "outputs": [
    {
     "data": {
      "text/plain": [
       "array([[ 0,  1,  2,  3],\n",
       "       [ 4,  5,  6,  7],\n",
       "       [ 8,  9, 10, 11]])"
      ]
     },
     "execution_count": 14,
     "metadata": {},
     "output_type": "execute_result"
    }
   ],
   "source": [
    "arr2 = array1.reshape(-1,4)\n",
    "arr2"
   ]
  },
  {
   "cell_type": "code",
   "execution_count": 16,
   "metadata": {},
   "outputs": [
    {
     "data": {
      "text/plain": [
       "np.int64(6)"
      ]
     },
     "execution_count": 16,
     "metadata": {},
     "output_type": "execute_result"
    }
   ],
   "source": [
    "arr2[1,-2]"
   ]
  },
  {
   "cell_type": "code",
   "execution_count": 19,
   "metadata": {},
   "outputs": [
    {
     "data": {
      "text/plain": [
       "array([[1, 2]])"
      ]
     },
     "execution_count": 19,
     "metadata": {},
     "output_type": "execute_result"
    }
   ],
   "source": [
    "#슬라이싱\n",
    "arr2[:1,1:3]"
   ]
  },
  {
   "cell_type": "code",
   "execution_count": 20,
   "metadata": {},
   "outputs": [
    {
     "data": {
      "text/plain": [
       "array([ 0,  1,  2,  3,  4,  5,  6,  7,  8,  9, 10, 11, 12, 13, 14, 15, 16,\n",
       "       17, 18, 19, 20, 21, 22, 23, 24, 25, 26, 27, 28, 29, 30, 31, 32, 33,\n",
       "       34, 35, 36, 37, 38, 39, 40, 41, 42, 43, 44, 45, 46, 47, 48, 49, 50,\n",
       "       51, 52, 53, 54, 55, 56, 57, 58, 59, 60, 61, 62, 63, 64, 65, 66, 67,\n",
       "       68, 69, 70, 71, 72, 73, 74, 75, 76, 77, 78, 79, 80, 81, 82, 83, 84,\n",
       "       85, 86, 87, 88, 89, 90, 91, 92, 93, 94, 95, 96, 97, 98, 99])"
      ]
     },
     "execution_count": 20,
     "metadata": {},
     "output_type": "execute_result"
    }
   ],
   "source": [
    "arr3 = np.arange(100)\n",
    "arr3"
   ]
  },
  {
   "cell_type": "code",
   "execution_count": 23,
   "metadata": {},
   "outputs": [
    {
     "data": {
      "text/plain": [
       "array([30, 29, 28, 27, 26, 25, 24, 23, 22, 21, 20, 19, 18, 17, 16, 15, 14,\n",
       "       13, 12, 11, 10,  9,  8,  7,  6,  5,  4,  3,  2,  1,  0])"
      ]
     },
     "execution_count": 23,
     "metadata": {},
     "output_type": "execute_result"
    }
   ],
   "source": [
    "arr3[30::-1]"
   ]
  },
  {
   "cell_type": "markdown",
   "metadata": {},
   "source": [
    "## (2) pandas 패키지\n",
    "* 데이터셋을 다루는 라이브러리\n",
    "* 1차원 배열 형태는 시리즈(Series)\n",
    "* 2차원 배열 형태는 데이터프레임(Data Frame)\n",
    "\n"
   ]
  },
  {
   "cell_type": "code",
   "execution_count": 24,
   "metadata": {},
   "outputs": [
    {
     "name": "stdout",
     "output_type": "stream",
     "text": [
      "Collecting pandas\n",
      "  Downloading pandas-2.2.2-cp311-cp311-win_amd64.whl.metadata (19 kB)\n",
      "Requirement already satisfied: numpy>=1.23.2 in c:\\users\\admin\\appdata\\local\\programs\\python\\python311\\lib\\site-packages (from pandas) (2.0.1)\n",
      "Requirement already satisfied: python-dateutil>=2.8.2 in c:\\users\\admin\\appdata\\roaming\\python\\python311\\site-packages (from pandas) (2.9.0.post0)\n",
      "Collecting pytz>=2020.1 (from pandas)\n",
      "  Downloading pytz-2024.1-py2.py3-none-any.whl.metadata (22 kB)\n",
      "Collecting tzdata>=2022.7 (from pandas)\n",
      "  Downloading tzdata-2024.1-py2.py3-none-any.whl.metadata (1.4 kB)\n",
      "Requirement already satisfied: six>=1.5 in c:\\users\\admin\\appdata\\roaming\\python\\python311\\site-packages (from python-dateutil>=2.8.2->pandas) (1.16.0)\n",
      "Downloading pandas-2.2.2-cp311-cp311-win_amd64.whl (11.6 MB)\n",
      "   ---------------------------------------- 0.0/11.6 MB ? eta -:--:--\n",
      "   - -------------------------------------- 0.4/11.6 MB 8.3 MB/s eta 0:00:02\n",
      "   ---- ----------------------------------- 1.2/11.6 MB 13.0 MB/s eta 0:00:01\n",
      "   ------- -------------------------------- 2.0/11.6 MB 14.4 MB/s eta 0:00:01\n",
      "   ------------ --------------------------- 3.6/11.6 MB 20.8 MB/s eta 0:00:01\n",
      "   -------------------- ------------------- 5.9/11.6 MB 25.2 MB/s eta 0:00:01\n",
      "   ------------------------------- -------- 9.3/11.6 MB 32.9 MB/s eta 0:00:01\n",
      "   ---------------------------------------  11.6/11.6 MB 50.1 MB/s eta 0:00:01\n",
      "   ---------------------------------------- 11.6/11.6 MB 43.5 MB/s eta 0:00:00\n",
      "Downloading pytz-2024.1-py2.py3-none-any.whl (505 kB)\n",
      "   ---------------------------------------- 0.0/505.5 kB ? eta -:--:--\n",
      "   ---------------------------------------- 505.5/505.5 kB ? eta 0:00:00\n",
      "Downloading tzdata-2024.1-py2.py3-none-any.whl (345 kB)\n",
      "   ---------------------------------------- 0.0/345.4 kB ? eta -:--:--\n",
      "   ---------------------------------------- 345.4/345.4 kB ? eta 0:00:00\n",
      "Installing collected packages: pytz, tzdata, pandas\n",
      "Successfully installed pandas-2.2.2 pytz-2024.1 tzdata-2024.1\n",
      "Note: you may need to restart the kernel to use updated packages.\n"
     ]
    },
    {
     "name": "stderr",
     "output_type": "stream",
     "text": [
      "\n",
      "[notice] A new release of pip is available: 24.0 -> 24.2\n",
      "[notice] To update, run: python.exe -m pip install --upgrade pip\n"
     ]
    }
   ],
   "source": [
    "#pandas 설치\n",
    "%pip install pandas"
   ]
  },
  {
   "cell_type": "code",
   "execution_count": 25,
   "metadata": {},
   "outputs": [],
   "source": [
    "# pandas 임포트\n",
    "import pandas as pd"
   ]
  },
  {
   "cell_type": "code",
   "execution_count": 26,
   "metadata": {},
   "outputs": [
    {
     "name": "stdout",
     "output_type": "stream",
     "text": [
      "Data type :  <class 'list'> \n",
      " ['a', 'b', 'c', 'd', 'e', 'f']\n",
      "Data Type :  <class 'pandas.core.series.Series'> \n",
      " 0    a\n",
      "1    b\n",
      "2    c\n",
      "3    d\n",
      "4    e\n",
      "5    f\n",
      "dtype: object\n"
     ]
    }
   ],
   "source": [
    "#Series 만들기\n",
    "data1 = ['a','b','c','d','e','f']                   #리스트 생성\n",
    "print(\"Data type : \", type(data1), \"\\n\", data1)\n",
    "sr1 = pd.Series(data1)\n",
    "print(\"Data Type : \", type(sr1), \"\\n\", sr1)"
   ]
  },
  {
   "cell_type": "code",
   "execution_count": 27,
   "metadata": {},
   "outputs": [
    {
     "data": {
      "text/plain": [
       "0    1\n",
       "1    2\n",
       "2    3\n",
       "3    4\n",
       "4    5\n",
       "5    6\n",
       "dtype: int64"
      ]
     },
     "execution_count": 27,
     "metadata": {},
     "output_type": "execute_result"
    }
   ],
   "source": [
    "data2 = [1,2,3,4,5,6]\n",
    "sr2 = pd.Series(data2)\n",
    "sr2 "
   ]
  },
  {
   "cell_type": "code",
   "execution_count": 28,
   "metadata": {},
   "outputs": [
    {
     "data": {
      "text/plain": [
       "0       7\n",
       "1       g\n",
       "2    True\n",
       "3     8.1\n",
       "4       9\n",
       "5       h\n",
       "dtype: object"
      ]
     },
     "execution_count": 28,
     "metadata": {},
     "output_type": "execute_result"
    }
   ],
   "source": [
    "data3 = [7,'g',True,8.1,9,'h']\n",
    "sr3 = pd.Series(data3)\n",
    "sr3"
   ]
  },
  {
   "cell_type": "code",
   "execution_count": 29,
   "metadata": {},
   "outputs": [
    {
     "data": {
      "text/plain": [
       "'b'"
      ]
     },
     "execution_count": 29,
     "metadata": {},
     "output_type": "execute_result"
    }
   ],
   "source": [
    "#인덱싱, 슬라이싱\n",
    "sr1.loc[1]"
   ]
  },
  {
   "cell_type": "code",
   "execution_count": 30,
   "metadata": {},
   "outputs": [
    {
     "data": {
      "text/plain": [
       "1    b\n",
       "2    c\n",
       "3    d\n",
       "dtype: object"
      ]
     },
     "execution_count": 30,
     "metadata": {},
     "output_type": "execute_result"
    }
   ],
   "source": [
    "sr1.loc[1:3]"
   ]
  },
  {
   "cell_type": "code",
   "execution_count": 32,
   "metadata": {},
   "outputs": [
    {
     "name": "stdout",
     "output_type": "stream",
     "text": [
      "Data Type :  <class 'dict'> \n",
      " {'col1': 0    a\n",
      "1    b\n",
      "2    c\n",
      "3    d\n",
      "4    e\n",
      "5    f\n",
      "dtype: object, 'col2': 0    1\n",
      "1    2\n",
      "2    3\n",
      "3    4\n",
      "4    5\n",
      "5    6\n",
      "dtype: int64, 'col3': 0       7\n",
      "1       g\n",
      "2    True\n",
      "3     8.1\n",
      "4       9\n",
      "5       h\n",
      "dtype: object}\n",
      "Data Type :  <class 'pandas.core.frame.DataFrame'> \n",
      "   col1  col2  col3\n",
      "0    a     1     7\n",
      "1    b     2     g\n",
      "2    c     3  True\n",
      "3    d     4   8.1\n",
      "4    e     5     9\n",
      "5    f     6     h\n"
     ]
    }
   ],
   "source": [
    "#데이터 프레임 생성\n",
    "dic1 = {'col1':sr1,'col2':sr2,'col3': sr3}\n",
    "print(\"Data Type : \", type(dic1), \"\\n\", dic1)\n",
    "df1 = pd.DataFrame(dic1)\n",
    "print(\"Data Type : \", type(df1), \"\\n\", df1)"
   ]
  },
  {
   "cell_type": "code",
   "execution_count": 33,
   "metadata": {},
   "outputs": [
    {
     "data": {
      "text/html": [
       "<div>\n",
       "<style scoped>\n",
       "    .dataframe tbody tr th:only-of-type {\n",
       "        vertical-align: middle;\n",
       "    }\n",
       "\n",
       "    .dataframe tbody tr th {\n",
       "        vertical-align: top;\n",
       "    }\n",
       "\n",
       "    .dataframe thead th {\n",
       "        text-align: right;\n",
       "    }\n",
       "</style>\n",
       "<table border=\"1\" class=\"dataframe\">\n",
       "  <thead>\n",
       "    <tr style=\"text-align: right;\">\n",
       "      <th></th>\n",
       "      <th>col1</th>\n",
       "      <th>col2</th>\n",
       "      <th>col3</th>\n",
       "    </tr>\n",
       "  </thead>\n",
       "  <tbody>\n",
       "    <tr>\n",
       "      <th>0</th>\n",
       "      <td>a</td>\n",
       "      <td>1</td>\n",
       "      <td>7</td>\n",
       "    </tr>\n",
       "    <tr>\n",
       "      <th>1</th>\n",
       "      <td>b</td>\n",
       "      <td>2</td>\n",
       "      <td>g</td>\n",
       "    </tr>\n",
       "    <tr>\n",
       "      <th>2</th>\n",
       "      <td>c</td>\n",
       "      <td>3</td>\n",
       "      <td>True</td>\n",
       "    </tr>\n",
       "    <tr>\n",
       "      <th>3</th>\n",
       "      <td>d</td>\n",
       "      <td>4</td>\n",
       "      <td>8.1</td>\n",
       "    </tr>\n",
       "    <tr>\n",
       "      <th>4</th>\n",
       "      <td>e</td>\n",
       "      <td>5</td>\n",
       "      <td>9</td>\n",
       "    </tr>\n",
       "    <tr>\n",
       "      <th>5</th>\n",
       "      <td>f</td>\n",
       "      <td>6</td>\n",
       "      <td>h</td>\n",
       "    </tr>\n",
       "  </tbody>\n",
       "</table>\n",
       "</div>"
      ],
      "text/plain": [
       "  col1  col2  col3\n",
       "0    a     1     7\n",
       "1    b     2     g\n",
       "2    c     3  True\n",
       "3    d     4   8.1\n",
       "4    e     5     9\n",
       "5    f     6     h"
      ]
     },
     "execution_count": 33,
     "metadata": {},
     "output_type": "execute_result"
    }
   ],
   "source": [
    "df1"
   ]
  },
  {
   "cell_type": "code",
   "execution_count": 34,
   "metadata": {},
   "outputs": [
    {
     "name": "stdout",
     "output_type": "stream",
     "text": [
      "Index(['col1', 'col2', 'col3'], dtype='object')\n"
     ]
    },
    {
     "data": {
      "text/html": [
       "<div>\n",
       "<style scoped>\n",
       "    .dataframe tbody tr th:only-of-type {\n",
       "        vertical-align: middle;\n",
       "    }\n",
       "\n",
       "    .dataframe tbody tr th {\n",
       "        vertical-align: top;\n",
       "    }\n",
       "\n",
       "    .dataframe thead th {\n",
       "        text-align: right;\n",
       "    }\n",
       "</style>\n",
       "<table border=\"1\" class=\"dataframe\">\n",
       "  <thead>\n",
       "    <tr style=\"text-align: right;\">\n",
       "      <th></th>\n",
       "      <th>String</th>\n",
       "      <th>Number</th>\n",
       "      <th>Mix</th>\n",
       "    </tr>\n",
       "  </thead>\n",
       "  <tbody>\n",
       "    <tr>\n",
       "      <th>0</th>\n",
       "      <td>a</td>\n",
       "      <td>1</td>\n",
       "      <td>7</td>\n",
       "    </tr>\n",
       "    <tr>\n",
       "      <th>1</th>\n",
       "      <td>b</td>\n",
       "      <td>2</td>\n",
       "      <td>g</td>\n",
       "    </tr>\n",
       "    <tr>\n",
       "      <th>2</th>\n",
       "      <td>c</td>\n",
       "      <td>3</td>\n",
       "      <td>True</td>\n",
       "    </tr>\n",
       "    <tr>\n",
       "      <th>3</th>\n",
       "      <td>d</td>\n",
       "      <td>4</td>\n",
       "      <td>8.1</td>\n",
       "    </tr>\n",
       "    <tr>\n",
       "      <th>4</th>\n",
       "      <td>e</td>\n",
       "      <td>5</td>\n",
       "      <td>9</td>\n",
       "    </tr>\n",
       "    <tr>\n",
       "      <th>5</th>\n",
       "      <td>f</td>\n",
       "      <td>6</td>\n",
       "      <td>h</td>\n",
       "    </tr>\n",
       "  </tbody>\n",
       "</table>\n",
       "</div>"
      ],
      "text/plain": [
       "  String  Number   Mix\n",
       "0      a       1     7\n",
       "1      b       2     g\n",
       "2      c       3  True\n",
       "3      d       4   8.1\n",
       "4      e       5     9\n",
       "5      f       6     h"
      ]
     },
     "execution_count": 34,
     "metadata": {},
     "output_type": "execute_result"
    }
   ],
   "source": [
    "#데이터 프레임 컬럼 조작\n",
    "print(df1.columns) #데이터 프레임 컬럼 정보\n",
    "df1.columns = ['String', 'Number','Mix'] #데이터 프레임 컬럼명 변경\n",
    "df1"
   ]
  },
  {
   "cell_type": "code",
   "execution_count": null,
   "metadata": {},
   "outputs": [],
   "source": [
    "#openpyxl 설치\n",
    "%pip install openpyxl\n"
   ]
  },
  {
   "cell_type": "code",
   "execution_count": 36,
   "metadata": {},
   "outputs": [
    {
     "data": {
      "text/html": [
       "<div>\n",
       "<style scoped>\n",
       "    .dataframe tbody tr th:only-of-type {\n",
       "        vertical-align: middle;\n",
       "    }\n",
       "\n",
       "    .dataframe tbody tr th {\n",
       "        vertical-align: top;\n",
       "    }\n",
       "\n",
       "    .dataframe thead th {\n",
       "        text-align: right;\n",
       "    }\n",
       "</style>\n",
       "<table border=\"1\" class=\"dataframe\">\n",
       "  <thead>\n",
       "    <tr style=\"text-align: right;\">\n",
       "      <th></th>\n",
       "      <th>이름</th>\n",
       "      <th>성별</th>\n",
       "      <th>나이</th>\n",
       "      <th>주소</th>\n",
       "      <th>전화번호</th>\n",
       "      <th>국어</th>\n",
       "      <th>영어</th>\n",
       "      <th>수학</th>\n",
       "    </tr>\n",
       "  </thead>\n",
       "  <tbody>\n",
       "    <tr>\n",
       "      <th>0</th>\n",
       "      <td>유영식</td>\n",
       "      <td>남</td>\n",
       "      <td>46</td>\n",
       "      <td>대전 중구</td>\n",
       "      <td>010-1234-5678</td>\n",
       "      <td>91</td>\n",
       "      <td>82</td>\n",
       "      <td>73</td>\n",
       "    </tr>\n",
       "    <tr>\n",
       "      <th>1</th>\n",
       "      <td>구본우</td>\n",
       "      <td>남</td>\n",
       "      <td>25</td>\n",
       "      <td>대전 동구</td>\n",
       "      <td>010-1234-5679</td>\n",
       "      <td>82</td>\n",
       "      <td>93</td>\n",
       "      <td>74</td>\n",
       "    </tr>\n",
       "    <tr>\n",
       "      <th>2</th>\n",
       "      <td>김민환</td>\n",
       "      <td>남</td>\n",
       "      <td>25</td>\n",
       "      <td>대전 서구</td>\n",
       "      <td>010-1234-5680</td>\n",
       "      <td>71</td>\n",
       "      <td>85</td>\n",
       "      <td>78</td>\n",
       "    </tr>\n",
       "    <tr>\n",
       "      <th>3</th>\n",
       "      <td>심서연</td>\n",
       "      <td>여</td>\n",
       "      <td>25</td>\n",
       "      <td>대전 유성구</td>\n",
       "      <td>010-1234-5681</td>\n",
       "      <td>83</td>\n",
       "      <td>85</td>\n",
       "      <td>88</td>\n",
       "    </tr>\n",
       "    <tr>\n",
       "      <th>4</th>\n",
       "      <td>원유정</td>\n",
       "      <td>여</td>\n",
       "      <td>25</td>\n",
       "      <td>대전 대덕구</td>\n",
       "      <td>010-1234-5682</td>\n",
       "      <td>91</td>\n",
       "      <td>82</td>\n",
       "      <td>73</td>\n",
       "    </tr>\n",
       "    <tr>\n",
       "      <th>5</th>\n",
       "      <td>유병윤</td>\n",
       "      <td>남</td>\n",
       "      <td>25</td>\n",
       "      <td>대전 중구</td>\n",
       "      <td>010-1234-5683</td>\n",
       "      <td>82</td>\n",
       "      <td>93</td>\n",
       "      <td>74</td>\n",
       "    </tr>\n",
       "    <tr>\n",
       "      <th>6</th>\n",
       "      <td>유연수</td>\n",
       "      <td>남</td>\n",
       "      <td>25</td>\n",
       "      <td>대전 동구</td>\n",
       "      <td>010-1234-5684</td>\n",
       "      <td>71</td>\n",
       "      <td>85</td>\n",
       "      <td>78</td>\n",
       "    </tr>\n",
       "    <tr>\n",
       "      <th>7</th>\n",
       "      <td>윤진</td>\n",
       "      <td>여</td>\n",
       "      <td>25</td>\n",
       "      <td>대전 서구</td>\n",
       "      <td>010-1234-5685</td>\n",
       "      <td>83</td>\n",
       "      <td>85</td>\n",
       "      <td>88</td>\n",
       "    </tr>\n",
       "    <tr>\n",
       "      <th>8</th>\n",
       "      <td>이종문</td>\n",
       "      <td>남</td>\n",
       "      <td>25</td>\n",
       "      <td>대전 유성구</td>\n",
       "      <td>010-1234-5686</td>\n",
       "      <td>91</td>\n",
       "      <td>82</td>\n",
       "      <td>73</td>\n",
       "    </tr>\n",
       "    <tr>\n",
       "      <th>9</th>\n",
       "      <td>이준영</td>\n",
       "      <td>남</td>\n",
       "      <td>25</td>\n",
       "      <td>대전 동구</td>\n",
       "      <td>010-1234-5687</td>\n",
       "      <td>82</td>\n",
       "      <td>93</td>\n",
       "      <td>74</td>\n",
       "    </tr>\n",
       "    <tr>\n",
       "      <th>10</th>\n",
       "      <td>조현정</td>\n",
       "      <td>여</td>\n",
       "      <td>25</td>\n",
       "      <td>대전 동구</td>\n",
       "      <td>010-1234-5688</td>\n",
       "      <td>82</td>\n",
       "      <td>93</td>\n",
       "      <td>74</td>\n",
       "    </tr>\n",
       "  </tbody>\n",
       "</table>\n",
       "</div>"
      ],
      "text/plain": [
       "     이름 성별  나이      주소           전화번호  국어  영어  수학\n",
       "0   유영식  남  46   대전 중구  010-1234-5678  91  82  73\n",
       "1   구본우  남  25   대전 동구  010-1234-5679  82  93  74\n",
       "2   김민환  남  25   대전 서구  010-1234-5680  71  85  78\n",
       "3   심서연  여  25  대전 유성구  010-1234-5681  83  85  88\n",
       "4   원유정  여  25  대전 대덕구  010-1234-5682  91  82  73\n",
       "5   유병윤  남  25   대전 중구  010-1234-5683  82  93  74\n",
       "6   유연수  남  25   대전 동구  010-1234-5684  71  85  78\n",
       "7    윤진  여  25   대전 서구  010-1234-5685  83  85  88\n",
       "8   이종문  남  25  대전 유성구  010-1234-5686  91  82  73\n",
       "9   이준영  남  25   대전 동구  010-1234-5687  82  93  74\n",
       "10  조현정  여  25   대전 동구  010-1234-5688  82  93  74"
      ]
     },
     "execution_count": 36,
     "metadata": {},
     "output_type": "execute_result"
    }
   ],
   "source": [
    "#파일을 데이터프레임으로 저장(excel)\n",
    "student_data = pd.read_excel('학생명단.xlsx')\n",
    "student_data"
   ]
  },
  {
   "cell_type": "code",
   "execution_count": 37,
   "metadata": {},
   "outputs": [
    {
     "data": {
      "text/html": [
       "<div>\n",
       "<style scoped>\n",
       "    .dataframe tbody tr th:only-of-type {\n",
       "        vertical-align: middle;\n",
       "    }\n",
       "\n",
       "    .dataframe tbody tr th {\n",
       "        vertical-align: top;\n",
       "    }\n",
       "\n",
       "    .dataframe thead th {\n",
       "        text-align: right;\n",
       "    }\n",
       "</style>\n",
       "<table border=\"1\" class=\"dataframe\">\n",
       "  <thead>\n",
       "    <tr style=\"text-align: right;\">\n",
       "      <th></th>\n",
       "      <th>우편번호</th>\n",
       "      <th>시도</th>\n",
       "      <th>시도영문</th>\n",
       "      <th>시군구</th>\n",
       "      <th>시군구영문</th>\n",
       "      <th>읍면</th>\n",
       "      <th>읍면영문</th>\n",
       "      <th>도로명코드</th>\n",
       "      <th>도로명</th>\n",
       "      <th>도로명영문</th>\n",
       "      <th>...</th>\n",
       "      <th>법정동코드</th>\n",
       "      <th>법정동명</th>\n",
       "      <th>리명</th>\n",
       "      <th>행정동명</th>\n",
       "      <th>산여부</th>\n",
       "      <th>지번본번</th>\n",
       "      <th>읍면동일련번호</th>\n",
       "      <th>지번부번</th>\n",
       "      <th>구우편번호</th>\n",
       "      <th>우편번호일련번호</th>\n",
       "    </tr>\n",
       "  </thead>\n",
       "  <tbody>\n",
       "    <tr>\n",
       "      <th>0</th>\n",
       "      <td>34316</td>\n",
       "      <td>대전광역시</td>\n",
       "      <td>Daejeon</td>\n",
       "      <td>대덕구</td>\n",
       "      <td>Daedeok-gu</td>\n",
       "      <td>NaN</td>\n",
       "      <td>NaN</td>\n",
       "      <td>302303010005</td>\n",
       "      <td>대청호수로</td>\n",
       "      <td>Daecheonghosu-ro</td>\n",
       "      <td>...</td>\n",
       "      <td>3023012100</td>\n",
       "      <td>갈전동</td>\n",
       "      <td>NaN</td>\n",
       "      <td>신탄진동</td>\n",
       "      <td>0</td>\n",
       "      <td>238</td>\n",
       "      <td>2</td>\n",
       "      <td>8</td>\n",
       "      <td>NaN</td>\n",
       "      <td>NaN</td>\n",
       "    </tr>\n",
       "    <tr>\n",
       "      <th>1</th>\n",
       "      <td>34316</td>\n",
       "      <td>대전광역시</td>\n",
       "      <td>Daejeon</td>\n",
       "      <td>대덕구</td>\n",
       "      <td>Daedeok-gu</td>\n",
       "      <td>NaN</td>\n",
       "      <td>NaN</td>\n",
       "      <td>302303010005</td>\n",
       "      <td>대청호수로</td>\n",
       "      <td>Daecheonghosu-ro</td>\n",
       "      <td>...</td>\n",
       "      <td>3023012100</td>\n",
       "      <td>갈전동</td>\n",
       "      <td>NaN</td>\n",
       "      <td>신탄진동</td>\n",
       "      <td>0</td>\n",
       "      <td>503</td>\n",
       "      <td>2</td>\n",
       "      <td>0</td>\n",
       "      <td>NaN</td>\n",
       "      <td>NaN</td>\n",
       "    </tr>\n",
       "    <tr>\n",
       "      <th>2</th>\n",
       "      <td>34316</td>\n",
       "      <td>대전광역시</td>\n",
       "      <td>Daejeon</td>\n",
       "      <td>대덕구</td>\n",
       "      <td>Daedeok-gu</td>\n",
       "      <td>NaN</td>\n",
       "      <td>NaN</td>\n",
       "      <td>302303010005</td>\n",
       "      <td>대청호수로</td>\n",
       "      <td>Daecheonghosu-ro</td>\n",
       "      <td>...</td>\n",
       "      <td>3023012100</td>\n",
       "      <td>갈전동</td>\n",
       "      <td>NaN</td>\n",
       "      <td>신탄진동</td>\n",
       "      <td>0</td>\n",
       "      <td>498</td>\n",
       "      <td>2</td>\n",
       "      <td>0</td>\n",
       "      <td>NaN</td>\n",
       "      <td>NaN</td>\n",
       "    </tr>\n",
       "    <tr>\n",
       "      <th>3</th>\n",
       "      <td>34316</td>\n",
       "      <td>대전광역시</td>\n",
       "      <td>Daejeon</td>\n",
       "      <td>대덕구</td>\n",
       "      <td>Daedeok-gu</td>\n",
       "      <td>NaN</td>\n",
       "      <td>NaN</td>\n",
       "      <td>302303010005</td>\n",
       "      <td>대청호수로</td>\n",
       "      <td>Daecheonghosu-ro</td>\n",
       "      <td>...</td>\n",
       "      <td>3023012100</td>\n",
       "      <td>갈전동</td>\n",
       "      <td>NaN</td>\n",
       "      <td>신탄진동</td>\n",
       "      <td>0</td>\n",
       "      <td>238</td>\n",
       "      <td>2</td>\n",
       "      <td>7</td>\n",
       "      <td>NaN</td>\n",
       "      <td>NaN</td>\n",
       "    </tr>\n",
       "    <tr>\n",
       "      <th>4</th>\n",
       "      <td>34316</td>\n",
       "      <td>대전광역시</td>\n",
       "      <td>Daejeon</td>\n",
       "      <td>대덕구</td>\n",
       "      <td>Daedeok-gu</td>\n",
       "      <td>NaN</td>\n",
       "      <td>NaN</td>\n",
       "      <td>302303010005</td>\n",
       "      <td>대청호수로</td>\n",
       "      <td>Daecheonghosu-ro</td>\n",
       "      <td>...</td>\n",
       "      <td>3023012100</td>\n",
       "      <td>갈전동</td>\n",
       "      <td>NaN</td>\n",
       "      <td>신탄진동</td>\n",
       "      <td>0</td>\n",
       "      <td>238</td>\n",
       "      <td>2</td>\n",
       "      <td>2</td>\n",
       "      <td>NaN</td>\n",
       "      <td>NaN</td>\n",
       "    </tr>\n",
       "    <tr>\n",
       "      <th>...</th>\n",
       "      <td>...</td>\n",
       "      <td>...</td>\n",
       "      <td>...</td>\n",
       "      <td>...</td>\n",
       "      <td>...</td>\n",
       "      <td>...</td>\n",
       "      <td>...</td>\n",
       "      <td>...</td>\n",
       "      <td>...</td>\n",
       "      <td>...</td>\n",
       "      <td>...</td>\n",
       "      <td>...</td>\n",
       "      <td>...</td>\n",
       "      <td>...</td>\n",
       "      <td>...</td>\n",
       "      <td>...</td>\n",
       "      <td>...</td>\n",
       "      <td>...</td>\n",
       "      <td>...</td>\n",
       "      <td>...</td>\n",
       "      <td>...</td>\n",
       "    </tr>\n",
       "    <tr>\n",
       "      <th>113326</th>\n",
       "      <td>35067</td>\n",
       "      <td>대전광역시</td>\n",
       "      <td>Daejeon</td>\n",
       "      <td>중구</td>\n",
       "      <td>Jung-gu</td>\n",
       "      <td>NaN</td>\n",
       "      <td>NaN</td>\n",
       "      <td>301404295267</td>\n",
       "      <td>모암로7번길</td>\n",
       "      <td>Moam-ro 7beon-gil</td>\n",
       "      <td>...</td>\n",
       "      <td>3014010800</td>\n",
       "      <td>호동</td>\n",
       "      <td>NaN</td>\n",
       "      <td>석교동</td>\n",
       "      <td>0</td>\n",
       "      <td>24</td>\n",
       "      <td>1</td>\n",
       "      <td>2</td>\n",
       "      <td>NaN</td>\n",
       "      <td>NaN</td>\n",
       "    </tr>\n",
       "    <tr>\n",
       "      <th>113327</th>\n",
       "      <td>35067</td>\n",
       "      <td>대전광역시</td>\n",
       "      <td>Daejeon</td>\n",
       "      <td>중구</td>\n",
       "      <td>Jung-gu</td>\n",
       "      <td>NaN</td>\n",
       "      <td>NaN</td>\n",
       "      <td>301404295267</td>\n",
       "      <td>모암로7번길</td>\n",
       "      <td>Moam-ro 7beon-gil</td>\n",
       "      <td>...</td>\n",
       "      <td>3014010800</td>\n",
       "      <td>호동</td>\n",
       "      <td>NaN</td>\n",
       "      <td>석교동</td>\n",
       "      <td>0</td>\n",
       "      <td>24</td>\n",
       "      <td>1</td>\n",
       "      <td>21</td>\n",
       "      <td>NaN</td>\n",
       "      <td>NaN</td>\n",
       "    </tr>\n",
       "    <tr>\n",
       "      <th>113328</th>\n",
       "      <td>35067</td>\n",
       "      <td>대전광역시</td>\n",
       "      <td>Daejeon</td>\n",
       "      <td>중구</td>\n",
       "      <td>Jung-gu</td>\n",
       "      <td>NaN</td>\n",
       "      <td>NaN</td>\n",
       "      <td>301404295267</td>\n",
       "      <td>모암로7번길</td>\n",
       "      <td>Moam-ro 7beon-gil</td>\n",
       "      <td>...</td>\n",
       "      <td>3014010800</td>\n",
       "      <td>호동</td>\n",
       "      <td>NaN</td>\n",
       "      <td>석교동</td>\n",
       "      <td>0</td>\n",
       "      <td>24</td>\n",
       "      <td>1</td>\n",
       "      <td>2</td>\n",
       "      <td>NaN</td>\n",
       "      <td>NaN</td>\n",
       "    </tr>\n",
       "    <tr>\n",
       "      <th>113329</th>\n",
       "      <td>35065</td>\n",
       "      <td>대전광역시</td>\n",
       "      <td>Daejeon</td>\n",
       "      <td>중구</td>\n",
       "      <td>Jung-gu</td>\n",
       "      <td>NaN</td>\n",
       "      <td>NaN</td>\n",
       "      <td>301404295268</td>\n",
       "      <td>모암로8번길</td>\n",
       "      <td>Moam-ro 8beon-gil</td>\n",
       "      <td>...</td>\n",
       "      <td>3014010800</td>\n",
       "      <td>호동</td>\n",
       "      <td>NaN</td>\n",
       "      <td>석교동</td>\n",
       "      <td>0</td>\n",
       "      <td>12</td>\n",
       "      <td>2</td>\n",
       "      <td>2</td>\n",
       "      <td>NaN</td>\n",
       "      <td>NaN</td>\n",
       "    </tr>\n",
       "    <tr>\n",
       "      <th>113330</th>\n",
       "      <td>35066</td>\n",
       "      <td>대전광역시</td>\n",
       "      <td>Daejeon</td>\n",
       "      <td>중구</td>\n",
       "      <td>Jung-gu</td>\n",
       "      <td>NaN</td>\n",
       "      <td>NaN</td>\n",
       "      <td>301404295263</td>\n",
       "      <td>모암로24번길</td>\n",
       "      <td>Moam-ro 24beon-gil</td>\n",
       "      <td>...</td>\n",
       "      <td>3014010800</td>\n",
       "      <td>호동</td>\n",
       "      <td>NaN</td>\n",
       "      <td>석교동</td>\n",
       "      <td>0</td>\n",
       "      <td>21</td>\n",
       "      <td>2</td>\n",
       "      <td>4</td>\n",
       "      <td>NaN</td>\n",
       "      <td>NaN</td>\n",
       "    </tr>\n",
       "  </tbody>\n",
       "</table>\n",
       "<p>113331 rows × 26 columns</p>\n",
       "</div>"
      ],
      "text/plain": [
       "         우편번호     시도     시도영문  시군구       시군구영문  읍면  읍면영문         도로명코드  \\\n",
       "0       34316  대전광역시  Daejeon  대덕구  Daedeok-gu NaN   NaN  302303010005   \n",
       "1       34316  대전광역시  Daejeon  대덕구  Daedeok-gu NaN   NaN  302303010005   \n",
       "2       34316  대전광역시  Daejeon  대덕구  Daedeok-gu NaN   NaN  302303010005   \n",
       "3       34316  대전광역시  Daejeon  대덕구  Daedeok-gu NaN   NaN  302303010005   \n",
       "4       34316  대전광역시  Daejeon  대덕구  Daedeok-gu NaN   NaN  302303010005   \n",
       "...       ...    ...      ...  ...         ...  ..   ...           ...   \n",
       "113326  35067  대전광역시  Daejeon   중구     Jung-gu NaN   NaN  301404295267   \n",
       "113327  35067  대전광역시  Daejeon   중구     Jung-gu NaN   NaN  301404295267   \n",
       "113328  35067  대전광역시  Daejeon   중구     Jung-gu NaN   NaN  301404295267   \n",
       "113329  35065  대전광역시  Daejeon   중구     Jung-gu NaN   NaN  301404295268   \n",
       "113330  35066  대전광역시  Daejeon   중구     Jung-gu NaN   NaN  301404295263   \n",
       "\n",
       "            도로명               도로명영문  ...       법정동코드  법정동명  리명  행정동명  산여부  \\\n",
       "0         대청호수로    Daecheonghosu-ro  ...  3023012100   갈전동 NaN  신탄진동    0   \n",
       "1         대청호수로    Daecheonghosu-ro  ...  3023012100   갈전동 NaN  신탄진동    0   \n",
       "2         대청호수로    Daecheonghosu-ro  ...  3023012100   갈전동 NaN  신탄진동    0   \n",
       "3         대청호수로    Daecheonghosu-ro  ...  3023012100   갈전동 NaN  신탄진동    0   \n",
       "4         대청호수로    Daecheonghosu-ro  ...  3023012100   갈전동 NaN  신탄진동    0   \n",
       "...         ...                 ...  ...         ...   ...  ..   ...  ...   \n",
       "113326   모암로7번길   Moam-ro 7beon-gil  ...  3014010800    호동 NaN   석교동    0   \n",
       "113327   모암로7번길   Moam-ro 7beon-gil  ...  3014010800    호동 NaN   석교동    0   \n",
       "113328   모암로7번길   Moam-ro 7beon-gil  ...  3014010800    호동 NaN   석교동    0   \n",
       "113329   모암로8번길   Moam-ro 8beon-gil  ...  3014010800    호동 NaN   석교동    0   \n",
       "113330  모암로24번길  Moam-ro 24beon-gil  ...  3014010800    호동 NaN   석교동    0   \n",
       "\n",
       "       지번본번  읍면동일련번호 지번부번  구우편번호 우편번호일련번호  \n",
       "0       238        2    8    NaN      NaN  \n",
       "1       503        2    0    NaN      NaN  \n",
       "2       498        2    0    NaN      NaN  \n",
       "3       238        2    7    NaN      NaN  \n",
       "4       238        2    2    NaN      NaN  \n",
       "...     ...      ...  ...    ...      ...  \n",
       "113326   24        1    2    NaN      NaN  \n",
       "113327   24        1   21    NaN      NaN  \n",
       "113328   24        1    2    NaN      NaN  \n",
       "113329   12        2    2    NaN      NaN  \n",
       "113330   21        2    4    NaN      NaN  \n",
       "\n",
       "[113331 rows x 26 columns]"
      ]
     },
     "execution_count": 37,
     "metadata": {},
     "output_type": "execute_result"
    }
   ],
   "source": [
    "#파일을 데이터프레임으로 저장(txt)\n",
    "daejeon_data = pd.read_csv('대전광역시.txt', delimiter='|', encoding='utf-8')\n",
    "daejeon_data"
   ]
  },
  {
   "cell_type": "code",
   "execution_count": 38,
   "metadata": {},
   "outputs": [
    {
     "name": "stdout",
     "output_type": "stream",
     "text": [
      "<class 'pandas.core.frame.DataFrame'>\n",
      "RangeIndex: 11 entries, 0 to 10\n",
      "Data columns (total 8 columns):\n",
      " #   Column  Non-Null Count  Dtype \n",
      "---  ------  --------------  ----- \n",
      " 0   이름      11 non-null     object\n",
      " 1   성별      11 non-null     object\n",
      " 2   나이      11 non-null     int64 \n",
      " 3   주소      11 non-null     object\n",
      " 4   전화번호    11 non-null     object\n",
      " 5   국어      11 non-null     int64 \n",
      " 6   영어      11 non-null     int64 \n",
      " 7   수학      11 non-null     int64 \n",
      "dtypes: int64(4), object(4)\n",
      "memory usage: 836.0+ bytes\n"
     ]
    }
   ],
   "source": [
    "#데이터프레임 정보 확인\n",
    "student_data.info()"
   ]
  },
  {
   "cell_type": "code",
   "execution_count": 39,
   "metadata": {},
   "outputs": [
    {
     "data": {
      "text/html": [
       "<div>\n",
       "<style scoped>\n",
       "    .dataframe tbody tr th:only-of-type {\n",
       "        vertical-align: middle;\n",
       "    }\n",
       "\n",
       "    .dataframe tbody tr th {\n",
       "        vertical-align: top;\n",
       "    }\n",
       "\n",
       "    .dataframe thead th {\n",
       "        text-align: right;\n",
       "    }\n",
       "</style>\n",
       "<table border=\"1\" class=\"dataframe\">\n",
       "  <thead>\n",
       "    <tr style=\"text-align: right;\">\n",
       "      <th></th>\n",
       "      <th>나이</th>\n",
       "      <th>국어</th>\n",
       "      <th>영어</th>\n",
       "      <th>수학</th>\n",
       "    </tr>\n",
       "  </thead>\n",
       "  <tbody>\n",
       "    <tr>\n",
       "      <th>count</th>\n",
       "      <td>11.000000</td>\n",
       "      <td>11.000000</td>\n",
       "      <td>11.000000</td>\n",
       "      <td>11.000000</td>\n",
       "    </tr>\n",
       "    <tr>\n",
       "      <th>mean</th>\n",
       "      <td>26.909091</td>\n",
       "      <td>82.636364</td>\n",
       "      <td>87.090909</td>\n",
       "      <td>77.000000</td>\n",
       "    </tr>\n",
       "    <tr>\n",
       "      <th>std</th>\n",
       "      <td>6.331738</td>\n",
       "      <td>6.946549</td>\n",
       "      <td>4.846742</td>\n",
       "      <td>5.727128</td>\n",
       "    </tr>\n",
       "    <tr>\n",
       "      <th>min</th>\n",
       "      <td>25.000000</td>\n",
       "      <td>71.000000</td>\n",
       "      <td>82.000000</td>\n",
       "      <td>73.000000</td>\n",
       "    </tr>\n",
       "    <tr>\n",
       "      <th>25%</th>\n",
       "      <td>25.000000</td>\n",
       "      <td>82.000000</td>\n",
       "      <td>83.500000</td>\n",
       "      <td>73.500000</td>\n",
       "    </tr>\n",
       "    <tr>\n",
       "      <th>50%</th>\n",
       "      <td>25.000000</td>\n",
       "      <td>82.000000</td>\n",
       "      <td>85.000000</td>\n",
       "      <td>74.000000</td>\n",
       "    </tr>\n",
       "    <tr>\n",
       "      <th>75%</th>\n",
       "      <td>25.000000</td>\n",
       "      <td>87.000000</td>\n",
       "      <td>93.000000</td>\n",
       "      <td>78.000000</td>\n",
       "    </tr>\n",
       "    <tr>\n",
       "      <th>max</th>\n",
       "      <td>46.000000</td>\n",
       "      <td>91.000000</td>\n",
       "      <td>93.000000</td>\n",
       "      <td>88.000000</td>\n",
       "    </tr>\n",
       "  </tbody>\n",
       "</table>\n",
       "</div>"
      ],
      "text/plain": [
       "              나이         국어         영어         수학\n",
       "count  11.000000  11.000000  11.000000  11.000000\n",
       "mean   26.909091  82.636364  87.090909  77.000000\n",
       "std     6.331738   6.946549   4.846742   5.727128\n",
       "min    25.000000  71.000000  82.000000  73.000000\n",
       "25%    25.000000  82.000000  83.500000  73.500000\n",
       "50%    25.000000  82.000000  85.000000  74.000000\n",
       "75%    25.000000  87.000000  93.000000  78.000000\n",
       "max    46.000000  91.000000  93.000000  88.000000"
      ]
     },
     "execution_count": 39,
     "metadata": {},
     "output_type": "execute_result"
    }
   ],
   "source": [
    "student_data.describe()"
   ]
  },
  {
   "cell_type": "code",
   "execution_count": 40,
   "metadata": {},
   "outputs": [
    {
     "data": {
      "text/html": [
       "<div>\n",
       "<style scoped>\n",
       "    .dataframe tbody tr th:only-of-type {\n",
       "        vertical-align: middle;\n",
       "    }\n",
       "\n",
       "    .dataframe tbody tr th {\n",
       "        vertical-align: top;\n",
       "    }\n",
       "\n",
       "    .dataframe thead th {\n",
       "        text-align: right;\n",
       "    }\n",
       "</style>\n",
       "<table border=\"1\" class=\"dataframe\">\n",
       "  <thead>\n",
       "    <tr style=\"text-align: right;\">\n",
       "      <th></th>\n",
       "      <th>이름</th>\n",
       "      <th>성별</th>\n",
       "      <th>나이</th>\n",
       "      <th>주소</th>\n",
       "      <th>전화번호</th>\n",
       "      <th>국어</th>\n",
       "      <th>영어</th>\n",
       "      <th>수학</th>\n",
       "    </tr>\n",
       "  </thead>\n",
       "  <tbody>\n",
       "    <tr>\n",
       "      <th>0</th>\n",
       "      <td>유영식</td>\n",
       "      <td>남</td>\n",
       "      <td>46</td>\n",
       "      <td>대전 중구</td>\n",
       "      <td>010-1234-5678</td>\n",
       "      <td>91</td>\n",
       "      <td>82</td>\n",
       "      <td>73</td>\n",
       "    </tr>\n",
       "    <tr>\n",
       "      <th>1</th>\n",
       "      <td>구본우</td>\n",
       "      <td>남</td>\n",
       "      <td>25</td>\n",
       "      <td>대전 동구</td>\n",
       "      <td>010-1234-5679</td>\n",
       "      <td>82</td>\n",
       "      <td>93</td>\n",
       "      <td>74</td>\n",
       "    </tr>\n",
       "    <tr>\n",
       "      <th>2</th>\n",
       "      <td>김민환</td>\n",
       "      <td>남</td>\n",
       "      <td>25</td>\n",
       "      <td>대전 서구</td>\n",
       "      <td>010-1234-5680</td>\n",
       "      <td>71</td>\n",
       "      <td>85</td>\n",
       "      <td>78</td>\n",
       "    </tr>\n",
       "    <tr>\n",
       "      <th>3</th>\n",
       "      <td>심서연</td>\n",
       "      <td>여</td>\n",
       "      <td>25</td>\n",
       "      <td>대전 유성구</td>\n",
       "      <td>010-1234-5681</td>\n",
       "      <td>83</td>\n",
       "      <td>85</td>\n",
       "      <td>88</td>\n",
       "    </tr>\n",
       "    <tr>\n",
       "      <th>4</th>\n",
       "      <td>원유정</td>\n",
       "      <td>여</td>\n",
       "      <td>25</td>\n",
       "      <td>대전 대덕구</td>\n",
       "      <td>010-1234-5682</td>\n",
       "      <td>91</td>\n",
       "      <td>82</td>\n",
       "      <td>73</td>\n",
       "    </tr>\n",
       "    <tr>\n",
       "      <th>5</th>\n",
       "      <td>유병윤</td>\n",
       "      <td>남</td>\n",
       "      <td>25</td>\n",
       "      <td>대전 중구</td>\n",
       "      <td>010-1234-5683</td>\n",
       "      <td>82</td>\n",
       "      <td>93</td>\n",
       "      <td>74</td>\n",
       "    </tr>\n",
       "    <tr>\n",
       "      <th>6</th>\n",
       "      <td>유연수</td>\n",
       "      <td>남</td>\n",
       "      <td>25</td>\n",
       "      <td>대전 동구</td>\n",
       "      <td>010-1234-5684</td>\n",
       "      <td>71</td>\n",
       "      <td>85</td>\n",
       "      <td>78</td>\n",
       "    </tr>\n",
       "    <tr>\n",
       "      <th>7</th>\n",
       "      <td>윤진</td>\n",
       "      <td>여</td>\n",
       "      <td>25</td>\n",
       "      <td>대전 서구</td>\n",
       "      <td>010-1234-5685</td>\n",
       "      <td>83</td>\n",
       "      <td>85</td>\n",
       "      <td>88</td>\n",
       "    </tr>\n",
       "    <tr>\n",
       "      <th>8</th>\n",
       "      <td>이종문</td>\n",
       "      <td>남</td>\n",
       "      <td>25</td>\n",
       "      <td>대전 유성구</td>\n",
       "      <td>010-1234-5686</td>\n",
       "      <td>91</td>\n",
       "      <td>82</td>\n",
       "      <td>73</td>\n",
       "    </tr>\n",
       "    <tr>\n",
       "      <th>9</th>\n",
       "      <td>이준영</td>\n",
       "      <td>남</td>\n",
       "      <td>25</td>\n",
       "      <td>대전 동구</td>\n",
       "      <td>010-1234-5687</td>\n",
       "      <td>82</td>\n",
       "      <td>93</td>\n",
       "      <td>74</td>\n",
       "    </tr>\n",
       "    <tr>\n",
       "      <th>10</th>\n",
       "      <td>조현정</td>\n",
       "      <td>여</td>\n",
       "      <td>25</td>\n",
       "      <td>대전 동구</td>\n",
       "      <td>010-1234-5688</td>\n",
       "      <td>82</td>\n",
       "      <td>93</td>\n",
       "      <td>74</td>\n",
       "    </tr>\n",
       "  </tbody>\n",
       "</table>\n",
       "</div>"
      ],
      "text/plain": [
       "     이름 성별  나이      주소           전화번호  국어  영어  수학\n",
       "0   유영식  남  46   대전 중구  010-1234-5678  91  82  73\n",
       "1   구본우  남  25   대전 동구  010-1234-5679  82  93  74\n",
       "2   김민환  남  25   대전 서구  010-1234-5680  71  85  78\n",
       "3   심서연  여  25  대전 유성구  010-1234-5681  83  85  88\n",
       "4   원유정  여  25  대전 대덕구  010-1234-5682  91  82  73\n",
       "5   유병윤  남  25   대전 중구  010-1234-5683  82  93  74\n",
       "6   유연수  남  25   대전 동구  010-1234-5684  71  85  78\n",
       "7    윤진  여  25   대전 서구  010-1234-5685  83  85  88\n",
       "8   이종문  남  25  대전 유성구  010-1234-5686  91  82  73\n",
       "9   이준영  남  25   대전 동구  010-1234-5687  82  93  74\n",
       "10  조현정  여  25   대전 동구  010-1234-5688  82  93  74"
      ]
     },
     "execution_count": 40,
     "metadata": {},
     "output_type": "execute_result"
    }
   ],
   "source": [
    "student_data"
   ]
  },
  {
   "cell_type": "code",
   "execution_count": 42,
   "metadata": {},
   "outputs": [
    {
     "data": {
      "text/html": [
       "<div>\n",
       "<style scoped>\n",
       "    .dataframe tbody tr th:only-of-type {\n",
       "        vertical-align: middle;\n",
       "    }\n",
       "\n",
       "    .dataframe tbody tr th {\n",
       "        vertical-align: top;\n",
       "    }\n",
       "\n",
       "    .dataframe thead th {\n",
       "        text-align: right;\n",
       "    }\n",
       "</style>\n",
       "<table border=\"1\" class=\"dataframe\">\n",
       "  <thead>\n",
       "    <tr style=\"text-align: right;\">\n",
       "      <th></th>\n",
       "      <th>이름</th>\n",
       "      <th>국어</th>\n",
       "      <th>영어</th>\n",
       "      <th>수학</th>\n",
       "    </tr>\n",
       "  </thead>\n",
       "  <tbody>\n",
       "    <tr>\n",
       "      <th>0</th>\n",
       "      <td>유영식</td>\n",
       "      <td>91</td>\n",
       "      <td>82</td>\n",
       "      <td>73</td>\n",
       "    </tr>\n",
       "    <tr>\n",
       "      <th>1</th>\n",
       "      <td>구본우</td>\n",
       "      <td>82</td>\n",
       "      <td>93</td>\n",
       "      <td>74</td>\n",
       "    </tr>\n",
       "    <tr>\n",
       "      <th>2</th>\n",
       "      <td>김민환</td>\n",
       "      <td>71</td>\n",
       "      <td>85</td>\n",
       "      <td>78</td>\n",
       "    </tr>\n",
       "    <tr>\n",
       "      <th>3</th>\n",
       "      <td>심서연</td>\n",
       "      <td>83</td>\n",
       "      <td>85</td>\n",
       "      <td>88</td>\n",
       "    </tr>\n",
       "    <tr>\n",
       "      <th>4</th>\n",
       "      <td>원유정</td>\n",
       "      <td>91</td>\n",
       "      <td>82</td>\n",
       "      <td>73</td>\n",
       "    </tr>\n",
       "    <tr>\n",
       "      <th>5</th>\n",
       "      <td>유병윤</td>\n",
       "      <td>82</td>\n",
       "      <td>93</td>\n",
       "      <td>74</td>\n",
       "    </tr>\n",
       "    <tr>\n",
       "      <th>6</th>\n",
       "      <td>유연수</td>\n",
       "      <td>71</td>\n",
       "      <td>85</td>\n",
       "      <td>78</td>\n",
       "    </tr>\n",
       "    <tr>\n",
       "      <th>7</th>\n",
       "      <td>윤진</td>\n",
       "      <td>83</td>\n",
       "      <td>85</td>\n",
       "      <td>88</td>\n",
       "    </tr>\n",
       "    <tr>\n",
       "      <th>8</th>\n",
       "      <td>이종문</td>\n",
       "      <td>91</td>\n",
       "      <td>82</td>\n",
       "      <td>73</td>\n",
       "    </tr>\n",
       "    <tr>\n",
       "      <th>9</th>\n",
       "      <td>이준영</td>\n",
       "      <td>82</td>\n",
       "      <td>93</td>\n",
       "      <td>74</td>\n",
       "    </tr>\n",
       "    <tr>\n",
       "      <th>10</th>\n",
       "      <td>조현정</td>\n",
       "      <td>82</td>\n",
       "      <td>93</td>\n",
       "      <td>74</td>\n",
       "    </tr>\n",
       "  </tbody>\n",
       "</table>\n",
       "</div>"
      ],
      "text/plain": [
       "     이름  국어  영어  수학\n",
       "0   유영식  91  82  73\n",
       "1   구본우  82  93  74\n",
       "2   김민환  71  85  78\n",
       "3   심서연  83  85  88\n",
       "4   원유정  91  82  73\n",
       "5   유병윤  82  93  74\n",
       "6   유연수  71  85  78\n",
       "7    윤진  83  85  88\n",
       "8   이종문  91  82  73\n",
       "9   이준영  82  93  74\n",
       "10  조현정  82  93  74"
      ]
     },
     "execution_count": 42,
     "metadata": {},
     "output_type": "execute_result"
    }
   ],
   "source": [
    "student_data.loc[:,('이름','국어','영어','수학')]"
   ]
  },
  {
   "cell_type": "code",
   "execution_count": 43,
   "metadata": {},
   "outputs": [
    {
     "name": "stdout",
     "output_type": "stream",
     "text": [
      "<class 'pandas.core.frame.DataFrame'>\n",
      "RangeIndex: 113331 entries, 0 to 113330\n",
      "Data columns (total 26 columns):\n",
      " #   Column    Non-Null Count   Dtype  \n",
      "---  ------    --------------   -----  \n",
      " 0   우편번호      113331 non-null  int64  \n",
      " 1   시도        113331 non-null  object \n",
      " 2   시도영문      113331 non-null  object \n",
      " 3   시군구       113331 non-null  object \n",
      " 4   시군구영문     113331 non-null  object \n",
      " 5   읍면        0 non-null       float64\n",
      " 6   읍면영문      0 non-null       float64\n",
      " 7   도로명코드     113331 non-null  int64  \n",
      " 8   도로명       113331 non-null  object \n",
      " 9   도로명영문     113331 non-null  object \n",
      " 10  지하여부      113331 non-null  int64  \n",
      " 11  건물번호본번    113331 non-null  int64  \n",
      " 12  건물번호부번    113331 non-null  int64  \n",
      " 13  건물관리번호    113331 non-null  object \n",
      " 14  다량배달처명    0 non-null       float64\n",
      " 15  시군구용건물명   10968 non-null   object \n",
      " 16  법정동코드     113331 non-null  int64  \n",
      " 17  법정동명      113331 non-null  object \n",
      " 18  리명        0 non-null       float64\n",
      " 19  행정동명      110898 non-null  object \n",
      " 20  산여부       113331 non-null  int64  \n",
      " 21  지번본번      113331 non-null  int64  \n",
      " 22  읍면동일련번호   113331 non-null  int64  \n",
      " 23  지번부번      113331 non-null  int64  \n",
      " 24  구우편번호     0 non-null       float64\n",
      " 25  우편번호일련번호  0 non-null       float64\n",
      "dtypes: float64(6), int64(10), object(10)\n",
      "memory usage: 22.5+ MB\n"
     ]
    }
   ],
   "source": [
    "daejeon_data.info()"
   ]
  },
  {
   "cell_type": "code",
   "execution_count": 46,
   "metadata": {},
   "outputs": [
    {
     "data": {
      "text/html": [
       "<div>\n",
       "<style scoped>\n",
       "    .dataframe tbody tr th:only-of-type {\n",
       "        vertical-align: middle;\n",
       "    }\n",
       "\n",
       "    .dataframe tbody tr th {\n",
       "        vertical-align: top;\n",
       "    }\n",
       "\n",
       "    .dataframe thead th {\n",
       "        text-align: right;\n",
       "    }\n",
       "</style>\n",
       "<table border=\"1\" class=\"dataframe\">\n",
       "  <thead>\n",
       "    <tr style=\"text-align: right;\">\n",
       "      <th></th>\n",
       "      <th>우편번호</th>\n",
       "      <th>시도</th>\n",
       "      <th>시군구</th>\n",
       "      <th>도로명</th>\n",
       "      <th>법정동명</th>\n",
       "      <th>행정동명</th>\n",
       "    </tr>\n",
       "  </thead>\n",
       "  <tbody>\n",
       "    <tr>\n",
       "      <th>0</th>\n",
       "      <td>34316</td>\n",
       "      <td>대전광역시</td>\n",
       "      <td>대덕구</td>\n",
       "      <td>대청호수로</td>\n",
       "      <td>갈전동</td>\n",
       "      <td>신탄진동</td>\n",
       "    </tr>\n",
       "    <tr>\n",
       "      <th>1</th>\n",
       "      <td>34316</td>\n",
       "      <td>대전광역시</td>\n",
       "      <td>대덕구</td>\n",
       "      <td>대청호수로</td>\n",
       "      <td>갈전동</td>\n",
       "      <td>신탄진동</td>\n",
       "    </tr>\n",
       "    <tr>\n",
       "      <th>2</th>\n",
       "      <td>34316</td>\n",
       "      <td>대전광역시</td>\n",
       "      <td>대덕구</td>\n",
       "      <td>대청호수로</td>\n",
       "      <td>갈전동</td>\n",
       "      <td>신탄진동</td>\n",
       "    </tr>\n",
       "    <tr>\n",
       "      <th>3</th>\n",
       "      <td>34316</td>\n",
       "      <td>대전광역시</td>\n",
       "      <td>대덕구</td>\n",
       "      <td>대청호수로</td>\n",
       "      <td>갈전동</td>\n",
       "      <td>신탄진동</td>\n",
       "    </tr>\n",
       "    <tr>\n",
       "      <th>4</th>\n",
       "      <td>34316</td>\n",
       "      <td>대전광역시</td>\n",
       "      <td>대덕구</td>\n",
       "      <td>대청호수로</td>\n",
       "      <td>갈전동</td>\n",
       "      <td>신탄진동</td>\n",
       "    </tr>\n",
       "    <tr>\n",
       "      <th>...</th>\n",
       "      <td>...</td>\n",
       "      <td>...</td>\n",
       "      <td>...</td>\n",
       "      <td>...</td>\n",
       "      <td>...</td>\n",
       "      <td>...</td>\n",
       "    </tr>\n",
       "    <tr>\n",
       "      <th>113326</th>\n",
       "      <td>35067</td>\n",
       "      <td>대전광역시</td>\n",
       "      <td>중구</td>\n",
       "      <td>모암로7번길</td>\n",
       "      <td>호동</td>\n",
       "      <td>석교동</td>\n",
       "    </tr>\n",
       "    <tr>\n",
       "      <th>113327</th>\n",
       "      <td>35067</td>\n",
       "      <td>대전광역시</td>\n",
       "      <td>중구</td>\n",
       "      <td>모암로7번길</td>\n",
       "      <td>호동</td>\n",
       "      <td>석교동</td>\n",
       "    </tr>\n",
       "    <tr>\n",
       "      <th>113328</th>\n",
       "      <td>35067</td>\n",
       "      <td>대전광역시</td>\n",
       "      <td>중구</td>\n",
       "      <td>모암로7번길</td>\n",
       "      <td>호동</td>\n",
       "      <td>석교동</td>\n",
       "    </tr>\n",
       "    <tr>\n",
       "      <th>113329</th>\n",
       "      <td>35065</td>\n",
       "      <td>대전광역시</td>\n",
       "      <td>중구</td>\n",
       "      <td>모암로8번길</td>\n",
       "      <td>호동</td>\n",
       "      <td>석교동</td>\n",
       "    </tr>\n",
       "    <tr>\n",
       "      <th>113330</th>\n",
       "      <td>35066</td>\n",
       "      <td>대전광역시</td>\n",
       "      <td>중구</td>\n",
       "      <td>모암로24번길</td>\n",
       "      <td>호동</td>\n",
       "      <td>석교동</td>\n",
       "    </tr>\n",
       "  </tbody>\n",
       "</table>\n",
       "<p>113331 rows × 6 columns</p>\n",
       "</div>"
      ],
      "text/plain": [
       "         우편번호     시도  시군구      도로명 법정동명  행정동명\n",
       "0       34316  대전광역시  대덕구    대청호수로  갈전동  신탄진동\n",
       "1       34316  대전광역시  대덕구    대청호수로  갈전동  신탄진동\n",
       "2       34316  대전광역시  대덕구    대청호수로  갈전동  신탄진동\n",
       "3       34316  대전광역시  대덕구    대청호수로  갈전동  신탄진동\n",
       "4       34316  대전광역시  대덕구    대청호수로  갈전동  신탄진동\n",
       "...       ...    ...  ...      ...  ...   ...\n",
       "113326  35067  대전광역시   중구   모암로7번길   호동   석교동\n",
       "113327  35067  대전광역시   중구   모암로7번길   호동   석교동\n",
       "113328  35067  대전광역시   중구   모암로7번길   호동   석교동\n",
       "113329  35065  대전광역시   중구   모암로8번길   호동   석교동\n",
       "113330  35066  대전광역시   중구  모암로24번길   호동   석교동\n",
       "\n",
       "[113331 rows x 6 columns]"
      ]
     },
     "execution_count": 46,
     "metadata": {},
     "output_type": "execute_result"
    }
   ],
   "source": [
    "daejeon_data = daejeon_data.loc[:,('우편번호','시도','시군구','도로명','법정동명','행정동명')]\n",
    "daejeon_data"
   ]
  }
 ],
 "metadata": {
  "kernelspec": {
   "display_name": "Python 3",
   "language": "python",
   "name": "python3"
  },
  "language_info": {
   "codemirror_mode": {
    "name": "ipython",
    "version": 3
   },
   "file_extension": ".py",
   "mimetype": "text/x-python",
   "name": "python",
   "nbconvert_exporter": "python",
   "pygments_lexer": "ipython3",
   "version": "3.11.9"
  }
 },
 "nbformat": 4,
 "nbformat_minor": 2
}
